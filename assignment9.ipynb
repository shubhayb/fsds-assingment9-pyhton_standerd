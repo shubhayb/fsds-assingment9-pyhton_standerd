{
 "cells": [
  {
   "cell_type": "markdown",
   "id": "b78920c0-0195-4fb6-a738-2f41189f83bb",
   "metadata": {},
   "source": [
    "1. To what does a relative path refer?\n",
    "\n",
    "Ans: the location of a file relative to the current (working) directory*\n"
   ]
  },
  {
   "cell_type": "markdown",
   "id": "bc87e7cc-258b-43b5-b0d7-bea99c2d4102",
   "metadata": {},
   "source": [
    "2. What does an absolute path start with your operating system?\n",
    "\n",
    "Ans: An absolute path makes no assumptions about your current location in relation to the location of the file or directory it's describing. An absolute path always begins from the absolute start of your hard drive and describes every step "
   ]
  },
  {
   "cell_type": "markdown",
   "id": "e0e106c0-4a15-4b72-a221-675c7d544677",
   "metadata": {},
   "source": [
    "3. What do the functions os.getcwd() and os.chdir() do?\n",
    "\n",
    "Ans: os.getcwd() : CWD stands for Current Working Directory. This function allows you to see what your current working directory is. chdir(\"path-to-dir\") : Short for CHange DIRectory, this function allows you to set the current working directory to a path of your choice\n"
   ]
  },
  {
   "cell_type": "markdown",
   "id": "f4f87c37-7324-41bc-b043-8fc70f174394",
   "metadata": {},
   "source": [
    "4. What are the . and .. folders?\n",
    "\n",
    "Ans: A folder, also called a directory, is a space used to store files, other folders, and shortcuts on a computer.\n",
    "And  The . folder is the current folder, and .. is the parent folder\n",
    "\n"
   ]
  },
  {
   "cell_type": "markdown",
   "id": "86b94865-ff49-43e2-8879-83f4f8c9345f",
   "metadata": {},
   "source": [
    "5. In C:\\bacon\\eggs\\spam.txt, which part is the dir name, and which part is the base name?\n",
    "\n",
    "Ans: C:\\bacon\\eggs is the dir name, while spam.txt is the base name.\n",
    "\n"
   ]
  },
  {
   "cell_type": "markdown",
   "id": "1c2655de-7616-43a3-83dc-e0e36a5ca29a",
   "metadata": {},
   "source": [
    "6. What are the three “mode” arguments that can be passed to the open() function?\n",
    "\n",
    "Ans: The string 'r' for read mode, 'w' for write mode, and 'a' for append mode"
   ]
  },
  {
   "cell_type": "markdown",
   "id": "5c566e3c-d33a-491a-9d85-57ede2f42b0a",
   "metadata": {},
   "source": [
    "7. What happens if an existing file is opened in write mode?\n",
    "\n",
    "Ans: An existing file opened in write mode is erased and completely overwritten\n",
    "\n"
   ]
  },
  {
   "cell_type": "markdown",
   "id": "e1be67f2-cd87-4267-a873-7407fe06d5c9",
   "metadata": {},
   "source": [
    "8. How do you tell the difference between read() and readlines()?\n",
    "\n"
   ]
  }
 ],
 "metadata": {
  "kernelspec": {
   "display_name": "Python 3 (ipykernel)",
   "language": "python",
   "name": "python3"
  },
  "language_info": {
   "codemirror_mode": {
    "name": "ipython",
    "version": 3
   },
   "file_extension": ".py",
   "mimetype": "text/x-python",
   "name": "python",
   "nbconvert_exporter": "python",
   "pygments_lexer": "ipython3",
   "version": "3.10.6"
  }
 },
 "nbformat": 4,
 "nbformat_minor": 5
}
Ans: A shelf value resembles a dictionary value; it has keys and values, along with keys() and values() methods that work similarly to the dictionary methods of the same names
